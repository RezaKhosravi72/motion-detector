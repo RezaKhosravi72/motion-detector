{
 "cells": [
  {
   "cell_type": "markdown",
   "id": "2d77042f-63a9-48db-8507-b81e4b778203",
   "metadata": {},
   "source": [
    "# Exercise: Batch Image Resizing"
   ]
  },
  {
   "cell_type": "code",
   "execution_count": 10,
   "id": "b023364a-5d14-4832-9dc7-c2010f775659",
   "metadata": {},
   "outputs": [
    {
     "name": "stdout",
     "output_type": "stream",
     "text": [
      "Requirement already satisfied: opencv-python in /usr/local/lib/python3.11/site-packages (4.9.0.80)\n",
      "Requirement already satisfied: numpy>=1.21.2 in /usr/local/lib/python3.11/site-packages (from opencv-python) (1.26.1)\n",
      "Note: you may need to restart the kernel to use updated packages.\n"
     ]
    }
   ],
   "source": [
    "pip install opencv-python "
   ]
  },
  {
   "cell_type": "code",
   "execution_count": 11,
   "id": "89763d81-a2e0-4e01-a5a6-581da7673b42",
   "metadata": {},
   "outputs": [],
   "source": [
    "import glob\n",
    "import cv2"
   ]
  },
  {
   "cell_type": "code",
   "execution_count": 12,
   "id": "776b4bf3-5f6d-44be-a073-14505616b484",
   "metadata": {},
   "outputs": [],
   "source": [
    "images = glob.glob(\"*.jpg\")"
   ]
  },
  {
   "cell_type": "code",
   "execution_count": 13,
   "id": "740fc840-970b-41e1-9a2c-5bbb6ce5947f",
   "metadata": {},
   "outputs": [],
   "source": [
    "for image in images:\n",
    "    img = cv2.imread(image, 0)\n",
    "    resized_img = cv2.resize(img, (100,100))\n",
    "    cv2.imshow(\"Resizing...\", resized_img)\n",
    "    cv2.waitKey(500)\n",
    "    cv2.destroyAllWindows()\n",
    "    cv2.imwrite(\"resized_\"+image, resized_img)"
   ]
  },
  {
   "cell_type": "code",
   "execution_count": null,
   "id": "a25f5a73-728a-4004-b323-cb024432dfb7",
   "metadata": {},
   "outputs": [],
   "source": []
  }
 ],
 "metadata": {
  "kernelspec": {
   "display_name": "Python 3 (ipykernel)",
   "language": "python",
   "name": "python3"
  },
  "language_info": {
   "codemirror_mode": {
    "name": "ipython",
    "version": 3
   },
   "file_extension": ".py",
   "mimetype": "text/x-python",
   "name": "python",
   "nbconvert_exporter": "python",
   "pygments_lexer": "ipython3",
   "version": "3.11.6"
  }
 },
 "nbformat": 4,
 "nbformat_minor": 5
}
