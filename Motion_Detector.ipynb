{
 "cells": [
  {
   "cell_type": "markdown",
   "id": "fd927a4e-707f-4944-b157-56a5091e7e11",
   "metadata": {},
   "source": [
    "## Import necessary libraries\n",
    "\n",
    "**cv2** for computer vision  \n",
    "\n",
    "**pandas** for dataframes\n",
    "\n",
    "**datetime** for timestamps"
   ]
  },
  {
   "cell_type": "code",
   "execution_count": 1,
   "id": "deb29a3d-f2ce-4935-8f3a-393315d7a51d",
   "metadata": {},
   "outputs": [],
   "source": [
    "import cv2, pandas\n",
    "\n",
    "from datetime import datetime"
   ]
  },
  {
   "cell_type": "code",
   "execution_count": 2,
   "id": "2eedf6c0-a515-40e3-980b-d944395ac303",
   "metadata": {},
   "outputs": [
    {
     "name": "stdout",
     "output_type": "stream",
     "text": [
      "[0, 0]\n",
      "[datetime.datetime(2024, 4, 1, 14, 59, 26, 532804), datetime.datetime(2024, 4, 1, 14, 59, 27, 749815), datetime.datetime(2024, 4, 1, 14, 59, 29, 456569), datetime.datetime(2024, 4, 1, 14, 59, 34, 835861), datetime.datetime(2024, 4, 1, 14, 59, 35, 167883), datetime.datetime(2024, 4, 1, 14, 59, 35, 473057), datetime.datetime(2024, 4, 1, 14, 59, 37, 377145), datetime.datetime(2024, 4, 1, 14, 59, 37, 873681), datetime.datetime(2024, 4, 1, 14, 59, 38, 970629), datetime.datetime(2024, 4, 1, 14, 59, 39, 476000), datetime.datetime(2024, 4, 1, 14, 59, 42, 314716), datetime.datetime(2024, 4, 1, 14, 59, 42, 640167), datetime.datetime(2024, 4, 1, 14, 59, 42, 877205), datetime.datetime(2024, 4, 1, 14, 59, 43, 522587), datetime.datetime(2024, 4, 1, 14, 59, 43, 675883), datetime.datetime(2024, 4, 1, 14, 59, 43, 841671), datetime.datetime(2024, 4, 1, 14, 59, 43, 980103), datetime.datetime(2024, 4, 1, 14, 59, 44, 614571), datetime.datetime(2024, 4, 1, 14, 59, 44, 776703), datetime.datetime(2024, 4, 1, 14, 59, 45, 410782), datetime.datetime(2024, 4, 1, 14, 59, 45, 720526), datetime.datetime(2024, 4, 1, 14, 59, 45, 882509), datetime.datetime(2024, 4, 1, 14, 59, 46, 51693), datetime.datetime(2024, 4, 1, 14, 59, 46, 684307), datetime.datetime(2024, 4, 1, 14, 59, 46, 851522), datetime.datetime(2024, 4, 1, 14, 59, 47, 12431), datetime.datetime(2024, 4, 1, 14, 59, 47, 155158), datetime.datetime(2024, 4, 1, 14, 59, 48, 119205), datetime.datetime(2024, 4, 1, 14, 59, 48, 285006), datetime.datetime(2024, 4, 1, 14, 59, 48, 445055)]\n"
     ]
    },
    {
     "name": "stderr",
     "output_type": "stream",
     "text": [
      "/var/folders/br/pq4r4jdj7n370js8hxvml1vm0000gn/T/ipykernel_10082/2602081289.py:76: FutureWarning: The behavior of DataFrame concatenation with empty or all-NA entries is deprecated. In a future version, this will no longer exclude empty or all-NA columns when determining the result dtypes. To retain the old behavior, exclude the relevant entries before the concat operation.\n",
      "  df = df._append({'Start':time_list[i],'End':time_list[i+1]}, ignore_index=True)\n"
     ]
    },
    {
     "data": {
      "text/plain": [
       "<function destroyAllWindows>"
      ]
     },
     "execution_count": 2,
     "metadata": {},
     "output_type": "execute_result"
    }
   ],
   "source": [
    "video = cv2.VideoCapture(0) #Open camera\n",
    "last_frame = None \n",
    "\n",
    "#Initialize dataframe, status list and timestamp lists \n",
    "df = pandas.DataFrame(columns=['Start', 'End'])\n",
    "\n",
    "status = 0\n",
    "status_list = [None]\n",
    "time_list = []\n",
    "\n",
    "#Define function to check for changes in status between frames \n",
    "def NOR(x, y):\n",
    "    if (x==0 and y==1) or (x==1 and y==0):\n",
    "        return True\n",
    "    else:\n",
    "        return False\n",
    "\n",
    "\n",
    "\n",
    "\n",
    "#15-18. Read frame, initialize grayscale and status \n",
    "\n",
    "\n",
    "\n",
    "#Main loop\n",
    "while True:\n",
    "    check, frame = video.read()\n",
    "    \n",
    "    status = 0\n",
    "    \n",
    "    frame_gray = cv2.cvtColor(frame, cv2.COLOR_BGR2GRAY)\n",
    "    frame_gray = cv2.GaussianBlur(frame_gray, (21,21), 0)\n",
    "    \n",
    "    if last_gray is None: \n",
    "        last_frame = frame_gray\n",
    "        continue \n",
    "\n",
    "    delta_frame = cv2.absdiff(last_frame, frame_gray) #Compute difference between current and last frame \n",
    "\n",
    "    thresh_frame = cv2.threshold(delta_frame, 30, 255, cv2.THRESH_BINARY)[1] #Threshold difference image \n",
    " \n",
    "    thresh_frame = cv2.dilate(thresh_frame, None, iterations=2)\n",
    "    \n",
    "    last_frame = frame_gray\n",
    "    \n",
    "    (cnts,_) = cv2.findContours(thresh_frame.copy(), cv2.RETR_EXTERNAL, cv2.CHAIN_APPROX_SIMPLE)\n",
    "    for contour in cnts:\n",
    "        if cv2.contourArea(contour) < 10000:\n",
    "            continue \n",
    "            \n",
    "        status = 1\n",
    "        \n",
    "        (x, y, w, h) = cv2.boundingRect(contour)\n",
    "        cv2.rectangle(frame, (x,y), (x+w,y+h), (0,255,0), 3)\n",
    "\n",
    "    status_list.append(status)\n",
    "    status_list = status_list[-2:]\n",
    "    if NOR(status_list[-1],status_list[-2]): \n",
    "        time_list.append(datetime.now())\n",
    "    \n",
    "    # Resize window \n",
    "    #cv2.namedWindow('gray', cv2.WINDOW_NORMAL)  \n",
    "    #cv2.resizeWindow('gray', 400, 300)\n",
    "    #cv2.namedWindow('deta mode', cv2.WINDOW_NORMAL)  \n",
    "    #cv2.resizeWindow('deta mode', 400, 300)\n",
    "    #cv2.namedWindow('Threshold', cv2.WINDOW_NORMAL)  \n",
    "    #cv2.resizeWindow('Threshold', 400, 300)\n",
    "    #cv2.namedWindow('color', cv2.WINDOW_NORMAL)  \n",
    "    #cv2.resizeWindow('color', 400, 300)\n",
    "\n",
    "    # show\n",
    "    cv2.imshow('gray', gray)\n",
    "    cv2.imshow('deta mode', delta_frame)\n",
    "    cv2.imshow('Threshold', thresh_frame)\n",
    "    cv2.imshow('color', frame)\n",
    "\n",
    "\n",
    "    key = cv2.waitKey(1) #1 millisecond\n",
    "\n",
    "    if key == ord('q'): \n",
    "        if status==1: time_list.append(datetime.now())\n",
    "        break\n",
    "\n",
    "print(status_list)\n",
    "print(time_list)\n",
    "\n",
    "for i in range(0,len(time_list)-1, 2):\n",
    "    df = df._append({'Start':time_list[i],'End':time_list[i+1]}, ignore_index=True) \n",
    "\n",
    "df.to_csv('Times.csv')\n",
    "\n",
    "video.release()\n",
    "cv2.destroyAllWindows"
   ]
  }
 ],
 "metadata": {
  "kernelspec": {
   "display_name": "Python 3 (ipykernel)",
   "language": "python",
   "name": "python3"
  },
  "language_info": {
   "codemirror_mode": {
    "name": "ipython",
    "version": 3
   },
   "file_extension": ".py",
   "mimetype": "text/x-python",
   "name": "python",
   "nbconvert_exporter": "python",
   "pygments_lexer": "ipython3",
   "version": "3.11.6"
  }
 },
 "nbformat": 4,
 "nbformat_minor": 5
}
