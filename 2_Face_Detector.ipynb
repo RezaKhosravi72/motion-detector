{
 "cells": [
  {
   "cell_type": "markdown",
   "id": "bbca6913-a01c-4fec-b563-aff870d88c82",
   "metadata": {},
   "source": [
    "# Face Detector"
   ]
  },
  {
   "cell_type": "code",
   "execution_count": 9,
   "id": "6b1733c9-deb4-4c99-9183-4d7fd8840336",
   "metadata": {},
   "outputs": [],
   "source": [
    "import cv2"
   ]
  },
  {
   "cell_type": "code",
   "execution_count": 10,
   "id": "63f104c8-26c9-4738-ba89-2c01e88870fe",
   "metadata": {},
   "outputs": [],
   "source": [
    "face_cascade = cv2.CascadeClassifier(\"haarcascade_frontalface_default.xml\")"
   ]
  },
  {
   "cell_type": "code",
   "execution_count": 11,
   "id": "2bf4f3b2-5c51-471f-9608-c69b2e0e0025",
   "metadata": {},
   "outputs": [],
   "source": [
    "img = cv2.imread(\"photo_mine.jpg\")\n",
    "#img = cv2.imread(\"news.jpg\")"
   ]
  },
  {
   "cell_type": "code",
   "execution_count": 12,
   "id": "bca207f8-ace4-49ed-a23f-3da16e83ce4d",
   "metadata": {},
   "outputs": [],
   "source": [
    "gray_img = cv2.cvtColor(img, cv2.COLOR_BGR2GRAY)"
   ]
  },
  {
   "cell_type": "code",
   "execution_count": 13,
   "id": "c19893e0-ecb7-43ca-bed9-922c45e74aee",
   "metadata": {},
   "outputs": [],
   "source": [
    "faces = face_cascade.detectMultiScale(gray_img, \n",
    "                                      scaleFactor=1.05,\n",
    "                                      minNeighbors=5)"
   ]
  },
  {
   "cell_type": "code",
   "execution_count": 14,
   "id": "a996ce62-3f56-4ace-9537-ce5dd798e10f",
   "metadata": {},
   "outputs": [],
   "source": [
    "for x, y, w, h in faces:\n",
    "    img = cv2.rectangle(img, (x,y), (x+w,y+h), (0,255,0), 3)"
   ]
  },
  {
   "cell_type": "code",
   "execution_count": 15,
   "id": "5ac68695-e2e9-48c8-a6ec-7f6a1f4ad0db",
   "metadata": {},
   "outputs": [],
   "source": [
    "resize_img = cv2.resize(img, (int(img.shape[1]/3),int(img.shape[0]/3)))"
   ]
  },
  {
   "cell_type": "code",
   "execution_count": 16,
   "id": "7fa12c6c-99c4-4b70-a0fb-41d91cfd4243",
   "metadata": {},
   "outputs": [
    {
     "data": {
      "text/plain": [
       "<function destroyAllWindows>"
      ]
     },
     "execution_count": 16,
     "metadata": {},
     "output_type": "execute_result"
    }
   ],
   "source": [
    "cv2.imshow(\"Face\", resize_img)\n",
    "cv2.waitKey(5000)\n",
    "cv2.destroyAllWindows"
   ]
  }
 ],
 "metadata": {
  "kernelspec": {
   "display_name": "Python 3 (ipykernel)",
   "language": "python",
   "name": "python3"
  },
  "language_info": {
   "codemirror_mode": {
    "name": "ipython",
    "version": 3
   },
   "file_extension": ".py",
   "mimetype": "text/x-python",
   "name": "python",
   "nbconvert_exporter": "python",
   "pygments_lexer": "ipython3",
   "version": "3.11.6"
  }
 },
 "nbformat": 4,
 "nbformat_minor": 5
}
