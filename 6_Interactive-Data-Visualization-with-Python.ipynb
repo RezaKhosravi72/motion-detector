{
 "cells": [
  {
   "cell_type": "markdown",
   "id": "e18ce965-eb38-492e-8a15-fb59a006efc4",
   "metadata": {},
   "source": [
    "# Intrudiction to Bokeh"
   ]
  },
  {
   "cell_type": "markdown",
   "id": "8708519c-c864-4f31-a89a-fffe49304d47",
   "metadata": {},
   "source": [
    "## Basic Line Graph with Bokeh"
   ]
  },
  {
   "cell_type": "markdown",
   "id": "4f26df54-1fc7-433b-8aec-74585eab7091",
   "metadata": {},
   "source": [
    "### Import Libraries "
   ]
  },
  {
   "cell_type": "code",
   "execution_count": 10,
   "id": "b86e6f2f-4476-4113-b4b4-d53f2a21710c",
   "metadata": {},
   "outputs": [],
   "source": [
    "# Import Bokeh\n",
    "from bokeh.plotting import figure\n",
    "from bokeh.io import output_file, show\n",
    "import pandas as pd"
   ]
  },
  {
   "cell_type": "code",
   "execution_count": 3,
   "id": "95ea400e-644d-46c5-9e32-b70cf9854220",
   "metadata": {},
   "outputs": [],
   "source": [
    "# Dataset\n",
    "x = [1,2,3,4,5]\n",
    "y = [10,9,7,4,6]\n",
    "\n",
    "# Output File\n",
    "output_file(\"Basic Graph.html\")\n",
    "\n",
    "# Create Figure Object\n",
    "f = figure()\n",
    "\n",
    "# Create Line Plot\n",
    "f.line(x, y)\n",
    "\n",
    "# Write the Plot in the Figure Object\n",
    "show(f)"
   ]
  },
  {
   "cell_type": "code",
   "execution_count": 5,
   "id": "a7c22c9e-8aca-438a-b322-0a66ef8aaacd",
   "metadata": {},
   "outputs": [],
   "source": [
    "#dir(f)"
   ]
  },
  {
   "cell_type": "markdown",
   "id": "688b22d1-9a09-44d5-b6ac-59fa086356e8",
   "metadata": {},
   "source": [
    "##  Plotting Triangles and Circle Glyphs"
   ]
  },
  {
   "cell_type": "code",
   "execution_count": 7,
   "id": "bd36f3aa-9dea-4062-93bf-5bffd24264fb",
   "metadata": {},
   "outputs": [
    {
     "name": "stderr",
     "output_type": "stream",
     "text": [
      "BokehDeprecationWarning: 'triangle() method' was deprecated in Bokeh 3.4.0 and will be removed, use \"scatter(marker='triangle', ...) instead\" instead.\n"
     ]
    }
   ],
   "source": [
    "# Dataset\n",
    "x = [0, 5, 2.5]\n",
    "y = [0, 0, 2.5]\n",
    "\n",
    "# Output File\n",
    "output_file(\"Triangle.html\")\n",
    "\n",
    "# Create Figure Object\n",
    "f = figure()\n",
    "\n",
    "# Create Triangle Plot\n",
    "f.triangle(x, y)\n",
    "\n",
    "# Write the Plot in the Figure Object\n",
    "show(f)"
   ]
  },
  {
   "cell_type": "markdown",
   "id": "d5ff3764-1efc-445a-976a-c0df72dc7548",
   "metadata": {},
   "source": [
    "## Bokeh & Pandas"
   ]
  },
  {
   "cell_type": "code",
   "execution_count": 13,
   "id": "d139cd63-8d26-4dd3-b45e-48f293c83b4a",
   "metadata": {},
   "outputs": [],
   "source": [
    "df = pd.read_csv(\"data.csv\")\n",
    "x = df.x\n",
    "y = df.y"
   ]
  },
  {
   "cell_type": "code",
   "execution_count": 15,
   "id": "5892805e-fed3-4ee5-bc6d-7ec77d12cad4",
   "metadata": {},
   "outputs": [],
   "source": [
    "# Output File\n",
    "output_file(\"Plot_csvFile.html\")\n",
    "\n",
    "# Create Figure Object\n",
    "f = figure()\n",
    "\n",
    "# Create Line Plot\n",
    "f.line(x, y)\n",
    "\n",
    "# Write the Plot in the Figure Object\n",
    "show(f)"
   ]
  },
  {
   "cell_type": "markdown",
   "id": "86432e36-ea63-4e54-9627-c0a9d7eec22b",
   "metadata": {},
   "source": [
    "## Plotting Education Data"
   ]
  },
  {
   "cell_type": "code",
   "execution_count": 16,
   "id": "23f4d49b-32b5-48d8-ae40-568bfbe11062",
   "metadata": {},
   "outputs": [],
   "source": [
    "df = pd.read_csv(\"https://pythonizing.github.io/data/bachelors.csv\")"
   ]
  },
  {
   "cell_type": "code",
   "execution_count": 17,
   "id": "996a36a9-7df0-465e-b695-7c973f369dfa",
   "metadata": {},
   "outputs": [
    {
     "data": {
      "text/html": [
       "<div>\n",
       "<style scoped>\n",
       "    .dataframe tbody tr th:only-of-type {\n",
       "        vertical-align: middle;\n",
       "    }\n",
       "\n",
       "    .dataframe tbody tr th {\n",
       "        vertical-align: top;\n",
       "    }\n",
       "\n",
       "    .dataframe thead th {\n",
       "        text-align: right;\n",
       "    }\n",
       "</style>\n",
       "<table border=\"1\" class=\"dataframe\">\n",
       "  <thead>\n",
       "    <tr style=\"text-align: right;\">\n",
       "      <th></th>\n",
       "      <th>Year</th>\n",
       "      <th>Agriculture</th>\n",
       "      <th>Architecture</th>\n",
       "      <th>Art and Performance</th>\n",
       "      <th>Biology</th>\n",
       "      <th>Business</th>\n",
       "      <th>Communications and Journalism</th>\n",
       "      <th>Computer Science</th>\n",
       "      <th>Education</th>\n",
       "      <th>Engineering</th>\n",
       "      <th>English</th>\n",
       "      <th>Foreign Languages</th>\n",
       "      <th>Health Professions</th>\n",
       "      <th>Math and Statistics</th>\n",
       "      <th>Physical Sciences</th>\n",
       "      <th>Psychology</th>\n",
       "      <th>Public Administration</th>\n",
       "      <th>Social Sciences and History</th>\n",
       "    </tr>\n",
       "  </thead>\n",
       "  <tbody>\n",
       "    <tr>\n",
       "      <th>0</th>\n",
       "      <td>1970</td>\n",
       "      <td>4.229798</td>\n",
       "      <td>11.921005</td>\n",
       "      <td>59.7</td>\n",
       "      <td>29.088363</td>\n",
       "      <td>9.064439</td>\n",
       "      <td>35.3</td>\n",
       "      <td>13.6</td>\n",
       "      <td>74.535328</td>\n",
       "      <td>0.8</td>\n",
       "      <td>65.570923</td>\n",
       "      <td>73.8</td>\n",
       "      <td>77.1</td>\n",
       "      <td>38.0</td>\n",
       "      <td>13.8</td>\n",
       "      <td>44.4</td>\n",
       "      <td>68.4</td>\n",
       "      <td>36.8</td>\n",
       "    </tr>\n",
       "    <tr>\n",
       "      <th>1</th>\n",
       "      <td>1971</td>\n",
       "      <td>5.452797</td>\n",
       "      <td>12.003106</td>\n",
       "      <td>59.9</td>\n",
       "      <td>29.394403</td>\n",
       "      <td>9.503187</td>\n",
       "      <td>35.5</td>\n",
       "      <td>13.6</td>\n",
       "      <td>74.149204</td>\n",
       "      <td>1.0</td>\n",
       "      <td>64.556485</td>\n",
       "      <td>73.9</td>\n",
       "      <td>75.5</td>\n",
       "      <td>39.0</td>\n",
       "      <td>14.9</td>\n",
       "      <td>46.2</td>\n",
       "      <td>65.5</td>\n",
       "      <td>36.2</td>\n",
       "    </tr>\n",
       "    <tr>\n",
       "      <th>2</th>\n",
       "      <td>1972</td>\n",
       "      <td>7.420710</td>\n",
       "      <td>13.214594</td>\n",
       "      <td>60.4</td>\n",
       "      <td>29.810221</td>\n",
       "      <td>10.558962</td>\n",
       "      <td>36.6</td>\n",
       "      <td>14.9</td>\n",
       "      <td>73.554520</td>\n",
       "      <td>1.2</td>\n",
       "      <td>63.664263</td>\n",
       "      <td>74.6</td>\n",
       "      <td>76.9</td>\n",
       "      <td>40.2</td>\n",
       "      <td>14.8</td>\n",
       "      <td>47.6</td>\n",
       "      <td>62.6</td>\n",
       "      <td>36.1</td>\n",
       "    </tr>\n",
       "    <tr>\n",
       "      <th>3</th>\n",
       "      <td>1973</td>\n",
       "      <td>9.653602</td>\n",
       "      <td>14.791613</td>\n",
       "      <td>60.2</td>\n",
       "      <td>31.147915</td>\n",
       "      <td>12.804602</td>\n",
       "      <td>38.4</td>\n",
       "      <td>16.4</td>\n",
       "      <td>73.501814</td>\n",
       "      <td>1.6</td>\n",
       "      <td>62.941502</td>\n",
       "      <td>74.9</td>\n",
       "      <td>77.4</td>\n",
       "      <td>40.9</td>\n",
       "      <td>16.5</td>\n",
       "      <td>50.4</td>\n",
       "      <td>64.3</td>\n",
       "      <td>36.4</td>\n",
       "    </tr>\n",
       "    <tr>\n",
       "      <th>4</th>\n",
       "      <td>1974</td>\n",
       "      <td>14.074623</td>\n",
       "      <td>17.444688</td>\n",
       "      <td>61.9</td>\n",
       "      <td>32.996183</td>\n",
       "      <td>16.204850</td>\n",
       "      <td>40.5</td>\n",
       "      <td>18.9</td>\n",
       "      <td>73.336811</td>\n",
       "      <td>2.2</td>\n",
       "      <td>62.413412</td>\n",
       "      <td>75.3</td>\n",
       "      <td>77.9</td>\n",
       "      <td>41.8</td>\n",
       "      <td>18.2</td>\n",
       "      <td>52.6</td>\n",
       "      <td>66.1</td>\n",
       "      <td>37.3</td>\n",
       "    </tr>\n",
       "  </tbody>\n",
       "</table>\n",
       "</div>"
      ],
      "text/plain": [
       "   Year  Agriculture  Architecture  Art and Performance    Biology   Business  \\\n",
       "0  1970     4.229798     11.921005                 59.7  29.088363   9.064439   \n",
       "1  1971     5.452797     12.003106                 59.9  29.394403   9.503187   \n",
       "2  1972     7.420710     13.214594                 60.4  29.810221  10.558962   \n",
       "3  1973     9.653602     14.791613                 60.2  31.147915  12.804602   \n",
       "4  1974    14.074623     17.444688                 61.9  32.996183  16.204850   \n",
       "\n",
       "   Communications and Journalism  Computer Science  Education  Engineering  \\\n",
       "0                           35.3              13.6  74.535328          0.8   \n",
       "1                           35.5              13.6  74.149204          1.0   \n",
       "2                           36.6              14.9  73.554520          1.2   \n",
       "3                           38.4              16.4  73.501814          1.6   \n",
       "4                           40.5              18.9  73.336811          2.2   \n",
       "\n",
       "     English  Foreign Languages  Health Professions  Math and Statistics  \\\n",
       "0  65.570923               73.8                77.1                 38.0   \n",
       "1  64.556485               73.9                75.5                 39.0   \n",
       "2  63.664263               74.6                76.9                 40.2   \n",
       "3  62.941502               74.9                77.4                 40.9   \n",
       "4  62.413412               75.3                77.9                 41.8   \n",
       "\n",
       "   Physical Sciences  Psychology  Public Administration  \\\n",
       "0               13.8        44.4                   68.4   \n",
       "1               14.9        46.2                   65.5   \n",
       "2               14.8        47.6                   62.6   \n",
       "3               16.5        50.4                   64.3   \n",
       "4               18.2        52.6                   66.1   \n",
       "\n",
       "   Social Sciences and History  \n",
       "0                         36.8  \n",
       "1                         36.2  \n",
       "2                         36.1  \n",
       "3                         36.4  \n",
       "4                         37.3  "
      ]
     },
     "execution_count": 17,
     "metadata": {},
     "output_type": "execute_result"
    }
   ],
   "source": [
    "df.head()"
   ]
  },
  {
   "cell_type": "code",
   "execution_count": 19,
   "id": "4a747526-7b1f-4aed-9363-78c8368e686d",
   "metadata": {},
   "outputs": [
    {
     "data": {
      "text/plain": [
       "Index(['Year', 'Agriculture', 'Architecture', 'Art and Performance', 'Biology',\n",
       "       'Business', 'Communications and Journalism', 'Computer Science',\n",
       "       'Education', 'Engineering', 'English', 'Foreign Languages',\n",
       "       'Health Professions', 'Math and Statistics', 'Physical Sciences',\n",
       "       'Psychology', 'Public Administration', 'Social Sciences and History'],\n",
       "      dtype='object')"
      ]
     },
     "execution_count": 19,
     "metadata": {},
     "output_type": "execute_result"
    }
   ],
   "source": [
    "df.columns"
   ]
  },
  {
   "cell_type": "code",
   "execution_count": 20,
   "id": "9e5f40e8-113a-435b-a56d-8b452cb1a550",
   "metadata": {},
   "outputs": [],
   "source": [
    "x = df.Year\n",
    "y = df.Engineering"
   ]
  },
  {
   "cell_type": "code",
   "execution_count": 22,
   "id": "09f3f36d-8c9e-4415-8ad3-aa2cc88d145c",
   "metadata": {},
   "outputs": [],
   "source": [
    "# Output File\n",
    "output_file(\"Us Engineering Grads.html\")\n",
    "\n",
    "# Create Figure Object\n",
    "f = figure()\n",
    "\n",
    "# Create Line Plot\n",
    "f.line(x, y)\n",
    "\n",
    "# Write the Plot in the Figure Object\n",
    "show(f)"
   ]
  },
  {
   "cell_type": "markdown",
   "id": "28497570-0e55-42bd-aa10-12cfbb805889",
   "metadata": {},
   "source": [
    "## Plot Properties"
   ]
  },
  {
   "cell_type": "markdown",
   "id": "3edc9be9-fc49-499d-b33c-12a438cdfc10",
   "metadata": {},
   "source": [
    "- Add a title to the plot, \n",
    "- Set the figure width and height, \n",
    "- Change title font, "
   ]
  },
  {
   "cell_type": "code",
   "execution_count": 25,
   "id": "d1a864df-4029-4366-a80b-d90906ad4e58",
   "metadata": {},
   "outputs": [],
   "source": [
    "from bokeh.plotting import figure, output_file, show\n",
    "\n",
    "p=figure(width=500, height=400, tools='pan')\n",
    "\n",
    "p.title.text=\"Cool Data\"\n",
    "p.title.text_color=\"Gray\"\n",
    "p.title.text_font=\"times\"\n",
    "p.title.text_font_style=\"bold\"\n",
    "p.xaxis.minor_tick_line_color=None\n",
    "p.yaxis.minor_tick_line_color=None\n",
    "p.xaxis.axis_label=\"Date\"\n",
    "p.yaxis.axis_label=\"Intensity\"    \n",
    "\n",
    "p.line([1,2,3],[4,5,6])\n",
    "output_file(\"sample.html\")\n",
    "show(p)"
   ]
  },
  {
   "cell_type": "markdown",
   "id": "a5cf72b9-223f-4846-b355-5b5a7f81999d",
   "metadata": {},
   "source": [
    "## Plotting Weather Data"
   ]
  },
  {
   "cell_type": "code",
   "execution_count": 27,
   "id": "e6938fc8-3da2-4733-b3fc-f9bac9b2ba8a",
   "metadata": {},
   "outputs": [],
   "source": [
    "import pandas as pd\n",
    "\n",
    "from bokeh.plotting import figure, output_file, show"
   ]
  },
  {
   "cell_type": "code",
   "execution_count": 28,
   "id": "94f52e1f-b1df-40ff-83a2-b5b81074de1b",
   "metadata": {},
   "outputs": [],
   "source": [
    "df=pd.read_excel(\"https://github.com/pythonizing/data/raw/master/verlegenhuken.xlsx\",sheet_name=0)"
   ]
  },
  {
   "cell_type": "code",
   "execution_count": 29,
   "id": "a46c9a36-12ce-4c98-92b5-b39b3c80198d",
   "metadata": {},
   "outputs": [],
   "source": [
    "df[\"Temperature\"] = df[\"Temperature\"]/10\n",
    "\n",
    "df[\"Pressure\"] = df[\"Pressure\"]/10"
   ]
  },
  {
   "cell_type": "code",
   "execution_count": 30,
   "id": "2892d0a1-8a21-4331-9d00-1840059f5533",
   "metadata": {},
   "outputs": [
    {
     "name": "stderr",
     "output_type": "stream",
     "text": [
      "BokehDeprecationWarning: 'circle() method with size value' was deprecated in Bokeh 3.4.0 and will be removed, use 'scatter(size=...) instead' instead.\n"
     ]
    }
   ],
   "source": [
    "p=figure(width=500, height=400, tools='pan')\n",
    "\n",
    "p.title.text=\"Temperature & Air Pressure\"\n",
    "p.title.text_color=\"Gray\"\n",
    "p.title.text_font=\"arial\"\n",
    "p.title.text_font_style=\"bold\"\n",
    "\n",
    "p.xaxis.minor_tick_line_color=None\n",
    "p.yaxis.minor_tick_line_color=None\n",
    "\n",
    "p.xaxis.axis_label=\"Temperature (°C)\"\n",
    "p.yaxis.axis_label=\"Pressure (hPa)\"    \n",
    "\n",
    "p.circle(df[\"Temperature\"],df[\"Pressure\"], size=0.5)\n",
    "output_file(\"Weather.html\")\n",
    "show(p)"
   ]
  },
  {
   "cell_type": "markdown",
   "id": "35fe6bcd-6b01-45ce-948d-48e3cc739ead",
   "metadata": {},
   "source": [
    "## Visual Attributes"
   ]
  },
  {
   "cell_type": "code",
   "execution_count": 31,
   "id": "6d9ed25c-58f9-4830-a6e5-6d04c2f43705",
   "metadata": {},
   "outputs": [
    {
     "name": "stderr",
     "output_type": "stream",
     "text": [
      "BokehDeprecationWarning: 'circle() method with size value' was deprecated in Bokeh 3.4.0 and will be removed, use 'scatter(size=...) instead' instead.\n"
     ]
    }
   ],
   "source": [
    "from bokeh.plotting import figure, output_file, show\n",
    "\n",
    "p = figure(width=500, height=400, tools = 'pan, reset')\n",
    "\n",
    "p.title.text = \"Earthquakes\"\n",
    "\n",
    "p.title.text_color = \"Orange\"\n",
    "\n",
    "p.title.text_font = \"times\"\n",
    "\n",
    "p.title.text_font_style = \"italic\"\n",
    "\n",
    "p.yaxis.minor_tick_line_color = \"Yellow\"\n",
    "\n",
    "p.xaxis.axis_label = \"Times\"\n",
    "p.yaxis.axis_label = \"Value\"\n",
    "\n",
    "p.circle([1,2,3,4,5], [5,6,5,5,3], size = [i*2 for i in [8,12,14,15,20]], color=\"red\", alpha=0.5)\n",
    "\n",
    "output_file(\"Scatter_plotting.html\")\n",
    "show(p)"
   ]
  },
  {
   "cell_type": "markdown",
   "id": "62f3f6a5-bcc7-495e-8a3c-d33444bdc129",
   "metadata": {},
   "source": [
    "## Time Series Plots"
   ]
  },
  {
   "cell_type": "code",
   "execution_count": 38,
   "id": "bd7cc3a5-f391-4fd9-9c75-69e05a3dc811",
   "metadata": {},
   "outputs": [
    {
     "name": "stderr",
     "output_type": "stream",
     "text": [
      "/var/folders/br/pq4r4jdj7n370js8hxvml1vm0000gn/T/ipykernel_13324/402984484.py:1: UserWarning: Could not infer format, so each element will be parsed individually, falling back to `dateutil`. To ensure parsing is consistent and as-expected, please specify a format.\n",
      "  df = pd.read_csv(\"adbe.csv\",parse_dates = [\"Date\"])\n"
     ]
    }
   ],
   "source": [
    "df = pd.read_csv(\"adbe.csv\",parse_dates = [\"Date\"])"
   ]
  },
  {
   "cell_type": "code",
   "execution_count": 39,
   "id": "ab7686c7-2563-4c6a-a9f6-aac34866c733",
   "metadata": {},
   "outputs": [
    {
     "data": {
      "text/html": [
       "<div>\n",
       "<style scoped>\n",
       "    .dataframe tbody tr th:only-of-type {\n",
       "        vertical-align: middle;\n",
       "    }\n",
       "\n",
       "    .dataframe tbody tr th {\n",
       "        vertical-align: top;\n",
       "    }\n",
       "\n",
       "    .dataframe thead th {\n",
       "        text-align: right;\n",
       "    }\n",
       "</style>\n",
       "<table border=\"1\" class=\"dataframe\">\n",
       "  <thead>\n",
       "    <tr style=\"text-align: right;\">\n",
       "      <th></th>\n",
       "      <th>Date</th>\n",
       "      <th>Open</th>\n",
       "      <th>High</th>\n",
       "      <th>Low</th>\n",
       "      <th>Close</th>\n",
       "      <th>Volume</th>\n",
       "    </tr>\n",
       "  </thead>\n",
       "  <tbody>\n",
       "    <tr>\n",
       "      <th>0</th>\n",
       "      <td>2012-08-02</td>\n",
       "      <td>30.46</td>\n",
       "      <td>30.83</td>\n",
       "      <td>30.25</td>\n",
       "      <td>30.58</td>\n",
       "      <td>2639980</td>\n",
       "    </tr>\n",
       "    <tr>\n",
       "      <th>1</th>\n",
       "      <td>2012-08-01</td>\n",
       "      <td>31.05</td>\n",
       "      <td>31.17</td>\n",
       "      <td>30.64</td>\n",
       "      <td>30.69</td>\n",
       "      <td>2738740</td>\n",
       "    </tr>\n",
       "    <tr>\n",
       "      <th>2</th>\n",
       "      <td>2012-07-31</td>\n",
       "      <td>30.99</td>\n",
       "      <td>31.27</td>\n",
       "      <td>30.84</td>\n",
       "      <td>30.88</td>\n",
       "      <td>2662853</td>\n",
       "    </tr>\n",
       "    <tr>\n",
       "      <th>3</th>\n",
       "      <td>2012-07-30</td>\n",
       "      <td>31.89</td>\n",
       "      <td>31.95</td>\n",
       "      <td>30.92</td>\n",
       "      <td>31.01</td>\n",
       "      <td>4261193</td>\n",
       "    </tr>\n",
       "    <tr>\n",
       "      <th>4</th>\n",
       "      <td>2012-07-27</td>\n",
       "      <td>31.26</td>\n",
       "      <td>32.00</td>\n",
       "      <td>31.17</td>\n",
       "      <td>31.90</td>\n",
       "      <td>3312890</td>\n",
       "    </tr>\n",
       "  </tbody>\n",
       "</table>\n",
       "</div>"
      ],
      "text/plain": [
       "        Date   Open   High    Low  Close   Volume\n",
       "0 2012-08-02  30.46  30.83  30.25  30.58  2639980\n",
       "1 2012-08-01  31.05  31.17  30.64  30.69  2738740\n",
       "2 2012-07-31  30.99  31.27  30.84  30.88  2662853\n",
       "3 2012-07-30  31.89  31.95  30.92  31.01  4261193\n",
       "4 2012-07-27  31.26  32.00  31.17  31.90  3312890"
      ]
     },
     "execution_count": 39,
     "metadata": {},
     "output_type": "execute_result"
    }
   ],
   "source": [
    "df.head()"
   ]
  },
  {
   "cell_type": "code",
   "execution_count": 43,
   "id": "2b1ddc25-2487-40ba-9b1f-1ad1dbf9e24c",
   "metadata": {},
   "outputs": [],
   "source": [
    "p = figure(width=500, height=250, x_axis_type=\"datetime\", sizing_mode=\"scale_width\")\n",
    "\n",
    "p.line(df[\"Date\"], df[\"Close\"], color=\"Orange\", alpha=0.5)\n",
    "\n",
    "output_file(\"Timeseries.html\")\n",
    "show(p)"
   ]
  },
  {
   "cell_type": "markdown",
   "id": "2214a8ae-ff48-4ac9-ac79-66cfe8c5cfe8",
   "metadata": {},
   "source": [
    "## Plotting Financial Time Series with Bokeh"
   ]
  },
  {
   "cell_type": "code",
   "execution_count": 47,
   "id": "eebc779e-c3e0-48c6-a9a7-29ec742122ee",
   "metadata": {},
   "outputs": [],
   "source": [
    "import yfinance as yf\n",
    "import pandas as pd\n",
    "import numpy as np"
   ]
  },
  {
   "cell_type": "code",
   "execution_count": 63,
   "id": "e1fe4a39-9915-4126-98eb-8b67bde10be9",
   "metadata": {},
   "outputs": [],
   "source": [
    "from bokeh.layouts import row\n",
    "from bokeh.plotting import figure, show\n",
    "from bokeh.palettes import Category10_5 # for coloring"
   ]
  },
  {
   "cell_type": "code",
   "execution_count": 69,
   "id": "0b56d92a-b527-46b5-b3bb-c5dfc91142f8",
   "metadata": {},
   "outputs": [
    {
     "name": "stderr",
     "output_type": "stream",
     "text": [
      "[*********************100%%**********************]  5 of 5 completed\n"
     ]
    }
   ],
   "source": [
    "tickers = ['AAPL', 'GOOG', 'MSFT', 'NFLX', \"TSLA\"]\n",
    "\n",
    "data = yf.download(tickers)\n",
    "\n",
    "data = data.dropna()[\"Adj Close\"]\n",
    "\n",
    "data.reset_index(inplace=True)"
   ]
  },
  {
   "cell_type": "code",
   "execution_count": 70,
   "id": "d7a1304e-a018-4275-9b81-18feed336ac5",
   "metadata": {},
   "outputs": [
    {
     "data": {
      "text/html": [
       "<div>\n",
       "<style scoped>\n",
       "    .dataframe tbody tr th:only-of-type {\n",
       "        vertical-align: middle;\n",
       "    }\n",
       "\n",
       "    .dataframe tbody tr th {\n",
       "        vertical-align: top;\n",
       "    }\n",
       "\n",
       "    .dataframe thead th {\n",
       "        text-align: right;\n",
       "    }\n",
       "</style>\n",
       "<table border=\"1\" class=\"dataframe\">\n",
       "  <thead>\n",
       "    <tr style=\"text-align: right;\">\n",
       "      <th>Ticker</th>\n",
       "      <th>Date</th>\n",
       "      <th>AAPL</th>\n",
       "      <th>GOOG</th>\n",
       "      <th>MSFT</th>\n",
       "      <th>NFLX</th>\n",
       "      <th>TSLA</th>\n",
       "    </tr>\n",
       "  </thead>\n",
       "  <tbody>\n",
       "    <tr>\n",
       "      <th>0</th>\n",
       "      <td>2014-03-27</td>\n",
       "      <td>16.907248</td>\n",
       "      <td>27.846546</td>\n",
       "      <td>33.330235</td>\n",
       "      <td>52.025715</td>\n",
       "      <td>13.821333</td>\n",
       "    </tr>\n",
       "    <tr>\n",
       "      <th>1</th>\n",
       "      <td>2014-03-28</td>\n",
       "      <td>16.888376</td>\n",
       "      <td>27.922838</td>\n",
       "      <td>34.126240</td>\n",
       "      <td>51.267143</td>\n",
       "      <td>14.158000</td>\n",
       "    </tr>\n",
       "    <tr>\n",
       "      <th>2</th>\n",
       "      <td>2014-03-31</td>\n",
       "      <td>16.884602</td>\n",
       "      <td>27.772251</td>\n",
       "      <td>34.710541</td>\n",
       "      <td>50.290001</td>\n",
       "      <td>13.896667</td>\n",
       "    </tr>\n",
       "    <tr>\n",
       "      <th>3</th>\n",
       "      <td>2014-04-01</td>\n",
       "      <td>17.039059</td>\n",
       "      <td>28.280355</td>\n",
       "      <td>35.074650</td>\n",
       "      <td>52.098572</td>\n",
       "      <td>14.464667</td>\n",
       "    </tr>\n",
       "    <tr>\n",
       "      <th>4</th>\n",
       "      <td>2014-04-02</td>\n",
       "      <td>17.067373</td>\n",
       "      <td>28.272379</td>\n",
       "      <td>35.015377</td>\n",
       "      <td>51.840000</td>\n",
       "      <td>15.352667</td>\n",
       "    </tr>\n",
       "  </tbody>\n",
       "</table>\n",
       "</div>"
      ],
      "text/plain": [
       "Ticker       Date       AAPL       GOOG       MSFT       NFLX       TSLA\n",
       "0      2014-03-27  16.907248  27.846546  33.330235  52.025715  13.821333\n",
       "1      2014-03-28  16.888376  27.922838  34.126240  51.267143  14.158000\n",
       "2      2014-03-31  16.884602  27.772251  34.710541  50.290001  13.896667\n",
       "3      2014-04-01  17.039059  28.280355  35.074650  52.098572  14.464667\n",
       "4      2014-04-02  17.067373  28.272379  35.015377  51.840000  15.352667"
      ]
     },
     "execution_count": 70,
     "metadata": {},
     "output_type": "execute_result"
    }
   ],
   "source": [
    "data.head()"
   ]
  },
  {
   "cell_type": "code",
   "execution_count": 73,
   "id": "4c0dfd96-9022-4fed-aaee-aa0b3e6e8a08",
   "metadata": {},
   "outputs": [],
   "source": [
    "p1 = figure(x_axis_type=\"datetime\", title=\"Adjust Close Stock Prices\")\n",
    "\n",
    "p1.grid.grid_line_alpha = .3\n",
    "\n",
    "p1.xaxis.axis_label = \"Date\"\n",
    "p1.yaxis.axis_label = \"Price\"\n",
    "\n",
    "for i, tick in enumerate(tickers):\n",
    "    p1.line(data.Date, data[tick], color=Category10_5[i], legend_label=tick)\n",
    "\n",
    "p1.legend.location = 'top_left'\n",
    "\n",
    "output_file(\"Adjust Close Stock Prices.html\")\n",
    "show(p1)"
   ]
  },
  {
   "cell_type": "markdown",
   "id": "88a8cad8-b937-4934-822c-e6440e75d794",
   "metadata": {},
   "source": [
    "## More Visualization Examples with Bokeh\n",
    "Find a lot more plotting examples [here](http://bokeh.pydata.org/en/0.10.0/docs/gallery.html)"
   ]
  }
 ],
 "metadata": {
  "kernelspec": {
   "display_name": "Python 3 (ipykernel)",
   "language": "python",
   "name": "python3"
  },
  "language_info": {
   "codemirror_mode": {
    "name": "ipython",
    "version": 3
   },
   "file_extension": ".py",
   "mimetype": "text/x-python",
   "name": "python",
   "nbconvert_exporter": "python",
   "pygments_lexer": "ipython3",
   "version": "3.11.6"
  }
 },
 "nbformat": 4,
 "nbformat_minor": 5
}
