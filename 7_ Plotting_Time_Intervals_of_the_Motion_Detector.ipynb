{
 "cells": [
  {
   "cell_type": "markdown",
   "id": "73c0a893-6e66-477f-975d-11af3dc3e75c",
   "metadata": {},
   "source": [
    "# Plotting Time Intervals of the Motion Detector"
   ]
  },
  {
   "cell_type": "code",
   "execution_count": 9,
   "id": "f391d46f-0b2c-4472-854c-20f6dba0fea1",
   "metadata": {},
   "outputs": [],
   "source": [
    "from bokeh.plotting import figure, show, output_file\n",
    "import pandas as pd"
   ]
  },
  {
   "cell_type": "code",
   "execution_count": 23,
   "id": "e0a7b9b1-9183-4268-839a-f988f4900eab",
   "metadata": {},
   "outputs": [
    {
     "data": {
      "text/html": [
       "<div>\n",
       "<style scoped>\n",
       "    .dataframe tbody tr th:only-of-type {\n",
       "        vertical-align: middle;\n",
       "    }\n",
       "\n",
       "    .dataframe tbody tr th {\n",
       "        vertical-align: top;\n",
       "    }\n",
       "\n",
       "    .dataframe thead th {\n",
       "        text-align: right;\n",
       "    }\n",
       "</style>\n",
       "<table border=\"1\" class=\"dataframe\">\n",
       "  <thead>\n",
       "    <tr style=\"text-align: right;\">\n",
       "      <th></th>\n",
       "      <th>Unnamed: 0</th>\n",
       "      <th>Start</th>\n",
       "      <th>End</th>\n",
       "    </tr>\n",
       "  </thead>\n",
       "  <tbody>\n",
       "    <tr>\n",
       "      <th>0</th>\n",
       "      <td>0</td>\n",
       "      <td>2024-04-01 14:59:26.532804</td>\n",
       "      <td>2024-04-01 14:59:27.749815</td>\n",
       "    </tr>\n",
       "    <tr>\n",
       "      <th>1</th>\n",
       "      <td>1</td>\n",
       "      <td>2024-04-01 14:59:29.456569</td>\n",
       "      <td>2024-04-01 14:59:34.835861</td>\n",
       "    </tr>\n",
       "  </tbody>\n",
       "</table>\n",
       "</div>"
      ],
      "text/plain": [
       "   Unnamed: 0                       Start                         End\n",
       "0           0  2024-04-01 14:59:26.532804  2024-04-01 14:59:27.749815\n",
       "1           1  2024-04-01 14:59:29.456569  2024-04-01 14:59:34.835861"
      ]
     },
     "execution_count": 23,
     "metadata": {},
     "output_type": "execute_result"
    }
   ],
   "source": [
    "df = pd.read_csv(\"Times.csv\")\n",
    "df.head(2)"
   ]
  },
  {
   "cell_type": "code",
   "execution_count": null,
   "id": "82532e15-ed05-4313-94d5-2c17cee6a055",
   "metadata": {},
   "outputs": [],
   "source": [
    "#dir(figure)"
   ]
  },
  {
   "cell_type": "code",
   "execution_count": 28,
   "id": "2c431b2d-9798-428a-bc54-cc85fc293fed",
   "metadata": {},
   "outputs": [],
   "source": [
    "#from MotionDetector import df\n",
    "\n",
    "from bokeh.plotting import figure, show, output_file, ColumnDataSource \n",
    "from bokeh.models import HoverTool\n",
    "import pandas as pd\n",
    "\n",
    "df = pd.read_csv('Times.csv')\n",
    "\n",
    "# Convert columns to datetime\n",
    "df['Start'] = pd.to_datetime(df['Start'])  \n",
    "df['End'] = pd.to_datetime(df['End'])\n",
    "\n",
    "# Now dt accessor will work\n",
    "df['Start_string'] = df['Start'].dt.strftime('%Y-%m-%d %H:%M:%S')  \n",
    "df['End_string'] = df['End'].dt.strftime('%Y-%m-%d %H:%M:%S')\n",
    "\n",
    "\n",
    "cds = ColumnDataSource(df)\n",
    "p = figure(width=500, height=100, x_axis_type='datetime', sizing_mode=\"stretch_width\", \n",
    "           title='Motion Graph')\n",
    "\n",
    "p.yaxis.minor_tick_line_color=None\n",
    "p.grid.grid_line_color = None\n",
    "p.yaxis.ticker.desired_num_ticks = 1\n",
    "\n",
    "hover = HoverTool(tooltips=[('Start','@Start_string'),('End', '@End_string')])\n",
    "p.add_tools(hover) \n",
    "\n",
    "\n",
    "quad = p.quad(left='Start', right='End', bottom=0, top=1, color='green', source=cds)\n",
    "\n",
    "\n",
    "output_file('Motion Detection Records.html')\n",
    "show(p)  "
   ]
  }
 ],
 "metadata": {
  "kernelspec": {
   "display_name": "Python 3 (ipykernel)",
   "language": "python",
   "name": "python3"
  },
  "language_info": {
   "codemirror_mode": {
    "name": "ipython",
    "version": 3
   },
   "file_extension": ".py",
   "mimetype": "text/x-python",
   "name": "python",
   "nbconvert_exporter": "python",
   "pygments_lexer": "ipython3",
   "version": "3.11.6"
  }
 },
 "nbformat": 4,
 "nbformat_minor": 5
}
