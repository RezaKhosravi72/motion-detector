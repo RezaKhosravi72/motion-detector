{
 "cells": [
  {
   "cell_type": "code",
   "execution_count": 1,
   "id": "8926a5d1-47e9-4612-a42c-c7a3e8fc364d",
   "metadata": {},
   "outputs": [],
   "source": [
    "import cv2, time"
   ]
  },
  {
   "cell_type": "markdown",
   "id": "6c1f07b2-6e87-4352-bd18-74bf03c06f90",
   "metadata": {},
   "source": [
    "# Capturing Frame"
   ]
  },
  {
   "cell_type": "code",
   "execution_count": 3,
   "id": "89decc24-27d1-428f-8457-ac98b679d061",
   "metadata": {},
   "outputs": [
    {
     "data": {
      "text/plain": [
       "<function destroyAllWindows>"
      ]
     },
     "execution_count": 3,
     "metadata": {},
     "output_type": "execute_result"
    }
   ],
   "source": [
    "video = cv2.VideoCapture(0)\n",
    "\n",
    "check, frame = video.read()\n",
    "\n",
    "time.sleep(3)\n",
    "\n",
    "gray_frame = cv2.cvtColor(frame, cv2.COLOR_BGR2GRAY)\n",
    "\n",
    "cv2.imshow(\"Capturing...\", gray_frame)\n",
    "\n",
    "cv2.waitKey(0)\n",
    "\n",
    "video.release()\n",
    "\n",
    "cv2.destroyAllWindows"
   ]
  },
  {
   "cell_type": "markdown",
   "id": "fcf3c1ab-b9a5-48ae-9425-4a726efb87b2",
   "metadata": {},
   "source": [
    "# Capturing Video"
   ]
  },
  {
   "cell_type": "code",
   "execution_count": 2,
   "id": "c1968bc8-beaa-4424-87de-c8cfd5156a13",
   "metadata": {},
   "outputs": [],
   "source": [
    "video = cv2.VideoCapture(0)\n",
    "\n",
    "while True:\n",
    "\n",
    "    check, frame = video.read()\n",
    "    \n",
    "    #time.sleep(3)\n",
    "    \n",
    "    frame = cv2.resize(frame, (int(frame.shape[1]/2),int(frame.shape[0]/2)))\n",
    "    \n",
    "    gray_frame = cv2.cvtColor(frame, cv2.COLOR_BGR2GRAY)\n",
    "    \n",
    "    cv2.imshow(\"Capturing...\", gray_frame)\n",
    "    \n",
    "    key = cv2.waitKey(1000)\n",
    "\n",
    "    if key==ord(\"q\"):\n",
    "        break\n",
    "\n",
    "video.release()\n",
    "\n",
    "cv2.destroyWindow('Capturing...')"
   ]
  },
  {
   "cell_type": "code",
   "execution_count": null,
   "id": "72e6d647-0bae-4253-9f29-6e88c56e7e1a",
   "metadata": {},
   "outputs": [],
   "source": []
  }
 ],
 "metadata": {
  "kernelspec": {
   "display_name": "Python 3 (ipykernel)",
   "language": "python",
   "name": "python3"
  },
  "language_info": {
   "codemirror_mode": {
    "name": "ipython",
    "version": 3
   },
   "file_extension": ".py",
   "mimetype": "text/x-python",
   "name": "python",
   "nbconvert_exporter": "python",
   "pygments_lexer": "ipython3",
   "version": "3.11.6"
  }
 },
 "nbformat": 4,
 "nbformat_minor": 5
}
